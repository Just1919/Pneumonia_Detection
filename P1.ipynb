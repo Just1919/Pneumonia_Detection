{
  "nbformat": 4,
  "nbformat_minor": 0,
  "metadata": {
    "colab": {
      "provenance": [],
      "gpuType": "T4",
      "mount_file_id": "18lcrx5LDrKJvllnlmuMq5WHdq5IgvD81",
      "authorship_tag": "ABX9TyMOqHOEwDOLB51HGwTVyHgE",
      "include_colab_link": true
    },
    "kernelspec": {
      "name": "python3",
      "display_name": "Python 3"
    },
    "language_info": {
      "name": "python"
    },
    "accelerator": "GPU"
  },
  "cells": [
    {
      "cell_type": "markdown",
      "metadata": {
        "id": "view-in-github",
        "colab_type": "text"
      },
      "source": [
        "<a href=\"https://colab.research.google.com/github/Just1919/Pneumonia_Detection/blob/main/P1.ipynb\" target=\"_parent\"><img src=\"https://colab.research.google.com/assets/colab-badge.svg\" alt=\"Open In Colab\"/></a>"
      ]
    },
    {
      "cell_type": "markdown",
      "source": [
        "## **ROJET DETECTION DE PNEUMONIA**"
      ],
      "metadata": {
        "id": "ZBkAZyCycLS5"
      }
    },
    {
      "cell_type": "code",
      "execution_count": 1,
      "metadata": {
        "id": "NOpUA7FTWBjP"
      },
      "outputs": [],
      "source": [
        "#Installationde Tensorflow\n",
        "!pip install Tensorflow"
      ]
    },
    {
      "cell_type": "code",
      "source": [
        "#Importation des packages\n",
        "import os\n",
        "import numpy as np\n",
        "import tensorflow as tf\n",
        "from glob import glob\n",
        "\n",
        "from keras.applications.vgg16 import VGG16\n",
        "\n",
        "from keras.preprocessing.image import ImageDataGenerator\n",
        "from keras.layers import Dense,Flatten\n",
        "from keras.models import Model"
      ],
      "metadata": {
        "id": "1ZEAFY70W2cu"
      },
      "execution_count": 2,
      "outputs": []
    },
    {
      "cell_type": "markdown",
      "source": [
        "### **Connexion de colab à Kaggle**"
      ],
      "metadata": {
        "id": "MNTk7vHQgq58"
      }
    },
    {
      "cell_type": "code",
      "source": [
        "#Création d'un dossier Kaggle\n",
        "! mkdir ~/.kaggle/"
      ],
      "metadata": {
        "id": "iSpPA_XhhET8"
      },
      "execution_count": null,
      "outputs": []
    },
    {
      "cell_type": "code",
      "source": [
        "#Copier kaggle.jason vers le dossier  créé\n",
        "!cp '/content/drive/MyDrive/Kaggle/kaggle.json'  ~/.kaggle/"
      ],
      "metadata": {
        "id": "LJy54aFiYCis"
      },
      "execution_count": 4,
      "outputs": []
    },
    {
      "cell_type": "code",
      "source": [
        "# donner les droits a kaggle.json\n",
        "!chmod 600 ~/.kaggle/kaggle.json"
      ],
      "metadata": {
        "id": "nA-EhEkPfiN0"
      },
      "execution_count": 5,
      "outputs": []
    },
    {
      "cell_type": "code",
      "source": [
        "#Afficher les bases de données\n",
        "! kaggle datasets list"
      ],
      "metadata": {
        "colab": {
          "base_uri": "https://localhost:8080/"
        },
        "id": "HtDpP3-yfr_s",
        "outputId": "b5798e1f-84ec-467b-a4b4-f1a0545a515a"
      },
      "execution_count": 6,
      "outputs": [
        {
          "output_type": "stream",
          "name": "stdout",
          "text": [
            "Warning: Looks like you're using an outdated API Version, please consider updating (server 1.6.7 / client 1.5.16)\n",
            "ref                                                  title                                               size  lastUpdated          downloadCount  voteCount  usabilityRating  \n",
            "---------------------------------------------------  -------------------------------------------------  -----  -------------------  -------------  ---------  ---------------  \n",
            "sudarshan24byte/online-food-dataset                  Online Food Dataset                                  3KB  2024-03-02 18:50:30           9354        170  0.9411765        \n",
            "syedanwarafridi/vehicle-sales-data                   Vehicle Sales Data                                  19MB  2024-02-21 20:16:17          19106        337  1.0              \n",
            "julianoorlandi/spotify-top-songs-and-audio-features  Spotify Top Songs and Audio Features               526KB  2024-03-18 12:49:50           1235         24  1.0              \n",
            "bhavikjikadara/student-study-performance             Student Study Performance                            9KB  2024-03-07 06:14:09           5325         85  1.0              \n",
            "anandshaw2001/movie-rating-dataset                   Movie Rating DataSet                                 2MB  2024-03-08 09:18:46           1249         23  1.0              \n",
            "arnavvvvv/spotify-music                              Top Spotify Songs                                   47KB  2024-03-06 05:20:29           6135         83  1.0              \n",
            "ronaldonyango/global-suicide-rates-1990-to-2022      Suicide Rates & Socioeconomic Factors (1990 - 22)    2MB  2024-03-14 14:30:20           1917         23  1.0              \n",
            "kanchana1990/global-news-engagement-on-social-media  Global News Engagement on Social Media             261KB  2024-03-15 05:12:13            976         23  1.0              \n",
            "sujalsuthar/airlines-reviews                         Airline Reviews Dataset                              3MB  2024-03-06 16:30:30           1574         27  1.0              \n",
            "murilozangari/jobs-and-salaries-in-data-field-2024   Jobs and Salaries in Data field 2024               127KB  2024-03-18 18:15:53           1401         27  0.9411765        \n",
            "ayushparwal2026/cars-dataset                         Cars Dataset                                       169KB  2024-03-11 16:23:49           2052         31  1.0              \n",
            "tarunrm09/climate-change-indicators                  Climate change Indicators                           34KB  2024-02-22 08:53:54           9180        176  1.0              \n",
            "nbroad/gemma-rewrite-nbroad                          gemma-rewrite-nbroad                                 8MB  2024-03-03 04:52:39            929         73  1.0              \n",
            "bhavikjikadara/mental-health-dataset                 Mental Health Dataset                                2MB  2024-03-18 06:05:16           1019         30  1.0              \n",
            "ajaxianazarenka/premier-league                       Premier League                                     266KB  2024-03-19 18:14:27            850         23  1.0              \n",
            "arnavvvvv/netflix-movies-and-tv-shows                Netflix Movies and TV Shows                          1MB  2024-03-04 15:49:29           4134         67  1.0              \n",
            "sandeepmistry2004/wpl-india-2024-complete-stats      WPL India 2024 (Complete stats)                     13KB  2024-03-20 00:42:39            404         26  1.0              \n",
            "bhavikjikadara/brand-laptops-dataset                 Brand Laptops Dataset                               28KB  2024-03-09 14:57:09           2406         45  1.0              \n",
            "sumanthnimmagadda/student-spending-dataset           Student spending habits dataset.                    29KB  2024-03-05 15:01:06           3370         42  0.9411765        \n",
            "abhinavshaw09/data-science-job-salaries-2024         Data Science Job Salaries 2024                      90KB  2024-03-08 14:42:59           1217         29  1.0              \n"
          ]
        }
      ]
    },
    {
      "cell_type": "markdown",
      "source": [
        "### **Télécharger notre dataset**"
      ],
      "metadata": {
        "id": "zKoPZedeg8LG"
      }
    },
    {
      "cell_type": "code",
      "source": [
        "! kaggle datasets download -d paultimothymooney/chest-xray-pneumonia"
      ],
      "metadata": {
        "colab": {
          "base_uri": "https://localhost:8080/"
        },
        "id": "i_N_w3f7hDYU",
        "outputId": "bb96cc3f-176c-449c-cb48-dfa0949add6c"
      },
      "execution_count": null,
      "outputs": [
        {
          "output_type": "stream",
          "name": "stdout",
          "text": [
            "Downloading chest-xray-pneumonia.zip to /content\n",
            "100% 2.29G/2.29G [00:23<00:00, 198MB/s]\n",
            "100% 2.29G/2.29G [00:23<00:00, 104MB/s]\n"
          ]
        }
      ]
    },
    {
      "cell_type": "code",
      "source": [
        "!unzip /content/drive/MyDrive/Kaggle/chest-xray-pneumonia.zip -d pneumonia_data"
      ],
      "metadata": {
        "id": "6brQuc_piKW2"
      },
      "execution_count": null,
      "outputs": []
    },
    {
      "cell_type": "code",
      "source": [
        "#Importer la base de donnée\n",
        "data_path=\"/content/drive/MyDrive/Kaggle/pneumonia_data/chest_xray\""
      ],
      "metadata": {
        "id": "U8cWubbvrcn3"
      },
      "execution_count": 7,
      "outputs": []
    },
    {
      "cell_type": "code",
      "source": [
        "#Spécifier le chemin des  datasets de  train et test\n",
        "train_dir=os.path.join(data_path,\"train\")\n",
        "test_dir=os.path.join(data_path,\"test\")"
      ],
      "metadata": {
        "id": "Kw9DI4EMsPY1"
      },
      "execution_count": 8,
      "outputs": []
    },
    {
      "cell_type": "markdown",
      "source": [
        "**Applications Keras**: https://keras.io/api/applications/"
      ],
      "metadata": {
        "id": "-ObTwS4Ctduk"
      }
    },
    {
      "cell_type": "code",
      "source": [
        "#Préparer le modèle de base\n",
        "IMG_SHAPE=(224,224,3)\n",
        "base_model=VGG16(input_shape=IMG_SHAPE,include_top=False, weights=\"imagenet\")"
      ],
      "metadata": {
        "colab": {
          "base_uri": "https://localhost:8080/"
        },
        "id": "AZhgS29ws4SH",
        "outputId": "a5291b88-a03d-4fff-da53-60ac98d5d2af"
      },
      "execution_count": 9,
      "outputs": [
        {
          "output_type": "stream",
          "name": "stdout",
          "text": [
            "Downloading data from https://storage.googleapis.com/tensorflow/keras-applications/vgg16/vgg16_weights_tf_dim_ordering_tf_kernels_notop.h5\n",
            "58889256/58889256 [==============================] - 0s 0us/step\n"
          ]
        }
      ]
    },
    {
      "cell_type": "code",
      "source": [
        "#Bloquer le modèle de base\n",
        "base_model.trainable=False"
      ],
      "metadata": {
        "id": "n_35N84Zsp8V"
      },
      "execution_count": 10,
      "outputs": []
    },
    {
      "cell_type": "code",
      "source": [
        "base_model.output"
      ],
      "metadata": {
        "colab": {
          "base_uri": "https://localhost:8080/"
        },
        "id": "C3lC9jWDv-fv",
        "outputId": "5d831d3a-0c76-4265-ce3a-8a2fbb2e8367"
      },
      "execution_count": 11,
      "outputs": [
        {
          "output_type": "execute_result",
          "data": {
            "text/plain": [
              "<KerasTensor: shape=(None, 7, 7, 512) dtype=float32 (created by layer 'block5_pool')>"
            ]
          },
          "metadata": {},
          "execution_count": 11
        }
      ]
    },
    {
      "cell_type": "code",
      "source": [
        "#Ajouter les couches de sorties\n",
        "x=Flatten()(base_model.output)\n",
        "prediction=Dense(2, activation='softmax')(x)"
      ],
      "metadata": {
        "id": "mk7NDDNswCP6"
      },
      "execution_count": 12,
      "outputs": []
    },
    {
      "cell_type": "code",
      "source": [
        "#Création du modèle globale\n",
        "model=Model(inputs=base_model.input,outputs=prediction)\n",
        "model.summary()\n"
      ],
      "metadata": {
        "colab": {
          "base_uri": "https://localhost:8080/"
        },
        "id": "NRhwOI_vyDrj",
        "outputId": "62b36d28-c02f-4f67-80a5-3c143f6829c5"
      },
      "execution_count": 13,
      "outputs": [
        {
          "output_type": "stream",
          "name": "stdout",
          "text": [
            "Model: \"model\"\n",
            "_________________________________________________________________\n",
            " Layer (type)                Output Shape              Param #   \n",
            "=================================================================\n",
            " input_1 (InputLayer)        [(None, 224, 224, 3)]     0         \n",
            "                                                                 \n",
            " block1_conv1 (Conv2D)       (None, 224, 224, 64)      1792      \n",
            "                                                                 \n",
            " block1_conv2 (Conv2D)       (None, 224, 224, 64)      36928     \n",
            "                                                                 \n",
            " block1_pool (MaxPooling2D)  (None, 112, 112, 64)      0         \n",
            "                                                                 \n",
            " block2_conv1 (Conv2D)       (None, 112, 112, 128)     73856     \n",
            "                                                                 \n",
            " block2_conv2 (Conv2D)       (None, 112, 112, 128)     147584    \n",
            "                                                                 \n",
            " block2_pool (MaxPooling2D)  (None, 56, 56, 128)       0         \n",
            "                                                                 \n",
            " block3_conv1 (Conv2D)       (None, 56, 56, 256)       295168    \n",
            "                                                                 \n",
            " block3_conv2 (Conv2D)       (None, 56, 56, 256)       590080    \n",
            "                                                                 \n",
            " block3_conv3 (Conv2D)       (None, 56, 56, 256)       590080    \n",
            "                                                                 \n",
            " block3_pool (MaxPooling2D)  (None, 28, 28, 256)       0         \n",
            "                                                                 \n",
            " block4_conv1 (Conv2D)       (None, 28, 28, 512)       1180160   \n",
            "                                                                 \n",
            " block4_conv2 (Conv2D)       (None, 28, 28, 512)       2359808   \n",
            "                                                                 \n",
            " block4_conv3 (Conv2D)       (None, 28, 28, 512)       2359808   \n",
            "                                                                 \n",
            " block4_pool (MaxPooling2D)  (None, 14, 14, 512)       0         \n",
            "                                                                 \n",
            " block5_conv1 (Conv2D)       (None, 14, 14, 512)       2359808   \n",
            "                                                                 \n",
            " block5_conv2 (Conv2D)       (None, 14, 14, 512)       2359808   \n",
            "                                                                 \n",
            " block5_conv3 (Conv2D)       (None, 14, 14, 512)       2359808   \n",
            "                                                                 \n",
            " block5_pool (MaxPooling2D)  (None, 7, 7, 512)         0         \n",
            "                                                                 \n",
            " flatten (Flatten)           (None, 25088)             0         \n",
            "                                                                 \n",
            " dense (Dense)               (None, 2)                 50178     \n",
            "                                                                 \n",
            "=================================================================\n",
            "Total params: 14764866 (56.32 MB)\n",
            "Trainable params: 50178 (196.01 KB)\n",
            "Non-trainable params: 14714688 (56.13 MB)\n",
            "_________________________________________________________________\n"
          ]
        }
      ]
    },
    {
      "cell_type": "code",
      "source": [
        "model.compile(\n",
        "              loss=\"categorical_crossentropy\",\n",
        "              optimizer=\"adam\",\n",
        "              metrics=[\"accuracy\"])"
      ],
      "metadata": {
        "id": "S7lL6sux1uea"
      },
      "execution_count": 14,
      "outputs": []
    },
    {
      "cell_type": "code",
      "source": [
        "#Créer les photos augmantées\n",
        "\n",
        "train_datagen=ImageDataGenerator(\n",
        "\n",
        "                                 rescale=1/255,\n",
        "                                 shear_range=0.2,\n",
        "                                 zoom_range=0.2,\n",
        "                                 horizontal_flip=True,)\n",
        "test_datagen=ImageDataGenerator(rescale=1/255)\n",
        "\n",
        "training_set=train_datagen.flow_from_directory(train_dir,\n",
        "                                               target_size=(224,224),\n",
        "                                               batch_size=32,\n",
        "                                               class_mode=\"categorical\")\n",
        "test_set=test_datagen.flow_from_directory(test_dir,\n",
        "                                               target_size=(224,224),\n",
        "                                               batch_size=32,\n",
        "                                               class_mode=\"categorical\")\n",
        "\n",
        "\n"
      ],
      "metadata": {
        "colab": {
          "base_uri": "https://localhost:8080/"
        },
        "id": "EXGeE5BV22wB",
        "outputId": "cb1c3e53-5df8-4f51-d1aa-932b292d9d0d"
      },
      "execution_count": 15,
      "outputs": [
        {
          "output_type": "stream",
          "name": "stdout",
          "text": [
            "Found 1455 images belonging to 2 classes.\n",
            "Found 624 images belonging to 2 classes.\n"
          ]
        }
      ]
    },
    {
      "cell_type": "code",
      "source": [
        "#Appliquer le modèle\n",
        "\n",
        "model.fit(training_set,epochs=5,validation_data=test_set)"
      ],
      "metadata": {
        "colab": {
          "base_uri": "https://localhost:8080/"
        },
        "id": "BJtYEqcx6Q_d",
        "outputId": "e998aa5e-e0be-49ad-e222-872b57dd2b9a"
      },
      "execution_count": 16,
      "outputs": [
        {
          "output_type": "stream",
          "name": "stdout",
          "text": [
            "Epoch 1/5\n",
            "46/46 [==============================] - 1402s 31s/step - loss: 0.0182 - accuracy: 0.9828 - val_loss: 15.3532 - val_accuracy: 0.6250\n",
            "Epoch 2/5\n",
            "46/46 [==============================] - 1282s 28s/step - loss: 0.0000e+00 - accuracy: 1.0000 - val_loss: 15.5053 - val_accuracy: 0.6250\n",
            "Epoch 3/5\n",
            "46/46 [==============================] - 1283s 28s/step - loss: 0.0000e+00 - accuracy: 1.0000 - val_loss: 15.5069 - val_accuracy: 0.6250\n",
            "Epoch 4/5\n",
            "46/46 [==============================] - 1285s 28s/step - loss: 0.0000e+00 - accuracy: 1.0000 - val_loss: 15.5069 - val_accuracy: 0.6250\n",
            "Epoch 5/5\n",
            "46/46 [==============================] - 1290s 28s/step - loss: 0.0000e+00 - accuracy: 1.0000 - val_loss: 15.5069 - val_accuracy: 0.6250\n"
          ]
        },
        {
          "output_type": "execute_result",
          "data": {
            "text/plain": [
              "<keras.src.callbacks.History at 0x7aecdd1d9330>"
            ]
          },
          "metadata": {},
          "execution_count": 16
        }
      ]
    },
    {
      "cell_type": "code",
      "source": [
        "valid_loss,valid_accuracy=model.evaluate(test_set)"
      ],
      "metadata": {
        "colab": {
          "base_uri": "https://localhost:8080/"
        },
        "id": "oqNL5vN79I5b",
        "outputId": "1b93e7db-5cd6-43a9-f544-3b9e0c678dff"
      },
      "execution_count": 18,
      "outputs": [
        {
          "output_type": "stream",
          "name": "stdout",
          "text": [
            "20/20 [==============================] - 394s 20s/step - loss: 15.5069 - accuracy: 0.6250\n"
          ]
        }
      ]
    },
    {
      "cell_type": "code",
      "source": [
        "print(\"Accuracy after transfer learning: {}\".format(valid_accuracy))"
      ],
      "metadata": {
        "id": "s3xHwgG39i7X"
      },
      "execution_count": null,
      "outputs": []
    }
  ]
}